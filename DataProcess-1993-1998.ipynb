{
 "cells": [
  {
   "cell_type": "code",
   "execution_count": 1,
   "id": "52fde6ff-33f9-44b0-9eb1-eae7517abc43",
   "metadata": {},
   "outputs": [],
   "source": [
    "import pandas as pd"
   ]
  },
  {
   "cell_type": "markdown",
   "id": "df3cdc68-391a-4560-bda4-eb196e3c5577",
   "metadata": {},
   "source": [
    "### Metadata\n",
    "------------\n",
    "This section contains the metadata information that is constant for all the notebooks submitted for this data."
   ]
  },
  {
   "cell_type": "code",
   "execution_count": 2,
   "id": "fa5e0d53-a0cf-4cf0-8ba7-1f6bc99150b3",
   "metadata": {},
   "outputs": [],
   "source": [
    "# Read metadata.\n",
    "column_description = pd.read_csv(\"./data/variable-descriptions.csv\", header=2, usecols=[\"Name\", \"Description\"])\n",
    "plane_data = pd.read_csv(\"./data/plane-data.csv\")\n",
    "carrier_data = pd.read_csv(\"./data/carriers.csv\")\n",
    "airports = pd.read_csv(\"./data/airports.csv\")"
   ]
  },
  {
   "cell_type": "code",
   "execution_count": 3,
   "id": "7af5a06e-bce1-41b0-bf66-23a341f29d8c",
   "metadata": {},
   "outputs": [
    {
     "data": {
      "text/plain": [
       "Num Airports    23632\n",
       "Num Carriers     2982\n",
       "Num Planes      45261\n",
       "dtype: int64"
      ]
     },
     "execution_count": 3,
     "metadata": {},
     "output_type": "execute_result"
    }
   ],
   "source": [
    "# Data details.\n",
    "variable_index_labels = ['Num Airports', 'Num Carriers', 'Num Planes']\n",
    "pd.Series([airports.size, carrier_data.size, plane_data.size], index=variable_index_labels)"
   ]
  },
  {
   "cell_type": "code",
   "execution_count": 4,
   "id": "79ff342d-a856-400a-9e5c-4b31404441ed",
   "metadata": {
    "scrolled": true
   },
   "outputs": [
    {
     "data": {
      "text/html": [
       "<div>\n",
       "<style scoped>\n",
       "    .dataframe tbody tr th:only-of-type {\n",
       "        vertical-align: middle;\n",
       "    }\n",
       "\n",
       "    .dataframe tbody tr th {\n",
       "        vertical-align: top;\n",
       "    }\n",
       "\n",
       "    .dataframe thead th {\n",
       "        text-align: right;\n",
       "    }\n",
       "</style>\n",
       "<table border=\"1\" class=\"dataframe\">\n",
       "  <thead>\n",
       "    <tr style=\"text-align: right;\">\n",
       "      <th></th>\n",
       "      <th>Name</th>\n",
       "      <th>Description</th>\n",
       "    </tr>\n",
       "  </thead>\n",
       "  <tbody>\n",
       "    <tr>\n",
       "      <th>0</th>\n",
       "      <td>Year</td>\n",
       "      <td>1987-2008</td>\n",
       "    </tr>\n",
       "    <tr>\n",
       "      <th>1</th>\n",
       "      <td>Month</td>\n",
       "      <td>12-Jan</td>\n",
       "    </tr>\n",
       "    <tr>\n",
       "      <th>2</th>\n",
       "      <td>DayofMonth</td>\n",
       "      <td>31-Jan</td>\n",
       "    </tr>\n",
       "    <tr>\n",
       "      <th>3</th>\n",
       "      <td>DayOfWeek</td>\n",
       "      <td>1 (Monday) - 7 (Sunday)</td>\n",
       "    </tr>\n",
       "    <tr>\n",
       "      <th>4</th>\n",
       "      <td>DepTime</td>\n",
       "      <td>actual departure time (local, hhmm)</td>\n",
       "    </tr>\n",
       "    <tr>\n",
       "      <th>5</th>\n",
       "      <td>CRSDepTime</td>\n",
       "      <td>scheduled departure time (local, hhmm)</td>\n",
       "    </tr>\n",
       "    <tr>\n",
       "      <th>6</th>\n",
       "      <td>ArrTime</td>\n",
       "      <td>actual arrival time (local, hhmm)</td>\n",
       "    </tr>\n",
       "    <tr>\n",
       "      <th>7</th>\n",
       "      <td>CRSArrTime</td>\n",
       "      <td>scheduled arrival time (local, hhmm)</td>\n",
       "    </tr>\n",
       "    <tr>\n",
       "      <th>8</th>\n",
       "      <td>UniqueCarrier</td>\n",
       "      <td>unique carrier code</td>\n",
       "    </tr>\n",
       "    <tr>\n",
       "      <th>9</th>\n",
       "      <td>FlightNum</td>\n",
       "      <td>flight number</td>\n",
       "    </tr>\n",
       "    <tr>\n",
       "      <th>10</th>\n",
       "      <td>TailNum</td>\n",
       "      <td>plane tail number</td>\n",
       "    </tr>\n",
       "    <tr>\n",
       "      <th>11</th>\n",
       "      <td>ActualElapsedTime</td>\n",
       "      <td>in minutes</td>\n",
       "    </tr>\n",
       "    <tr>\n",
       "      <th>12</th>\n",
       "      <td>CRSElapsedTime</td>\n",
       "      <td>in minutes</td>\n",
       "    </tr>\n",
       "    <tr>\n",
       "      <th>13</th>\n",
       "      <td>AirTime</td>\n",
       "      <td>in minutes</td>\n",
       "    </tr>\n",
       "    <tr>\n",
       "      <th>14</th>\n",
       "      <td>ArrDelay</td>\n",
       "      <td>arrival delay, in minutes</td>\n",
       "    </tr>\n",
       "    <tr>\n",
       "      <th>15</th>\n",
       "      <td>DepDelay</td>\n",
       "      <td>departure delay, in minutes</td>\n",
       "    </tr>\n",
       "    <tr>\n",
       "      <th>16</th>\n",
       "      <td>Origin</td>\n",
       "      <td>origin IATA airport code</td>\n",
       "    </tr>\n",
       "    <tr>\n",
       "      <th>17</th>\n",
       "      <td>Dest</td>\n",
       "      <td>destination IATA airport code</td>\n",
       "    </tr>\n",
       "    <tr>\n",
       "      <th>18</th>\n",
       "      <td>Distance</td>\n",
       "      <td>in miles</td>\n",
       "    </tr>\n",
       "    <tr>\n",
       "      <th>19</th>\n",
       "      <td>TaxiIn</td>\n",
       "      <td>taxi in time, in minutes</td>\n",
       "    </tr>\n",
       "    <tr>\n",
       "      <th>20</th>\n",
       "      <td>TaxiOut</td>\n",
       "      <td>taxi out time in minutes</td>\n",
       "    </tr>\n",
       "    <tr>\n",
       "      <th>21</th>\n",
       "      <td>Cancelled</td>\n",
       "      <td>was the flight cancelled?</td>\n",
       "    </tr>\n",
       "    <tr>\n",
       "      <th>22</th>\n",
       "      <td>CancellationCode</td>\n",
       "      <td>reason for cancellation (A = carrier, B = weat...</td>\n",
       "    </tr>\n",
       "    <tr>\n",
       "      <th>23</th>\n",
       "      <td>Diverted</td>\n",
       "      <td>1 = yes, 0 = no</td>\n",
       "    </tr>\n",
       "    <tr>\n",
       "      <th>24</th>\n",
       "      <td>CarrierDelay</td>\n",
       "      <td>in minutes</td>\n",
       "    </tr>\n",
       "    <tr>\n",
       "      <th>25</th>\n",
       "      <td>WeatherDelay</td>\n",
       "      <td>in minutes</td>\n",
       "    </tr>\n",
       "    <tr>\n",
       "      <th>26</th>\n",
       "      <td>NASDelay</td>\n",
       "      <td>in minutes</td>\n",
       "    </tr>\n",
       "    <tr>\n",
       "      <th>27</th>\n",
       "      <td>SecurityDelay</td>\n",
       "      <td>in minutes</td>\n",
       "    </tr>\n",
       "    <tr>\n",
       "      <th>28</th>\n",
       "      <td>LateAircraftDelay</td>\n",
       "      <td>in minutes</td>\n",
       "    </tr>\n",
       "  </tbody>\n",
       "</table>\n",
       "</div>"
      ],
      "text/plain": [
       "                 Name                                        Description\n",
       "0                Year                                          1987-2008\n",
       "1               Month                                             12-Jan\n",
       "2          DayofMonth                                             31-Jan\n",
       "3           DayOfWeek                            1 (Monday) - 7 (Sunday)\n",
       "4             DepTime                actual departure time (local, hhmm)\n",
       "5          CRSDepTime             scheduled departure time (local, hhmm)\n",
       "6             ArrTime                  actual arrival time (local, hhmm)\n",
       "7          CRSArrTime               scheduled arrival time (local, hhmm)\n",
       "8       UniqueCarrier                                unique carrier code\n",
       "9           FlightNum                                      flight number\n",
       "10            TailNum                                  plane tail number\n",
       "11  ActualElapsedTime                                         in minutes\n",
       "12     CRSElapsedTime                                         in minutes\n",
       "13            AirTime                                         in minutes\n",
       "14           ArrDelay                          arrival delay, in minutes\n",
       "15           DepDelay                        departure delay, in minutes\n",
       "16             Origin                           origin IATA airport code\n",
       "17               Dest                      destination IATA airport code\n",
       "18           Distance                                           in miles\n",
       "19             TaxiIn                           taxi in time, in minutes\n",
       "20            TaxiOut                           taxi out time in minutes\n",
       "21          Cancelled                          was the flight cancelled?\n",
       "22   CancellationCode  reason for cancellation (A = carrier, B = weat...\n",
       "23           Diverted                                    1 = yes, 0 = no\n",
       "24       CarrierDelay                                         in minutes\n",
       "25       WeatherDelay                                         in minutes\n",
       "26           NASDelay                                         in minutes\n",
       "27      SecurityDelay                                         in minutes\n",
       "28  LateAircraftDelay                                         in minutes"
      ]
     },
     "execution_count": 4,
     "metadata": {},
     "output_type": "execute_result"
    }
   ],
   "source": [
    "# This gives a description of each data dimension.\n",
    "column_description"
   ]
  },
  {
   "cell_type": "markdown",
   "id": "a3f71dc2-0998-4862-88e9-8ec8acaee1ab",
   "metadata": {},
   "source": [
    "### Data Description\n",
    "--------------------\n",
    "\n",
    "The data in this section inludes information about the dataset collected for the years 1993 to 1998, which is refered to as the collection \n",
    "period from here onwards."
   ]
  },
  {
   "cell_type": "code",
   "execution_count": 5,
   "id": "2f1479ed-c108-4c9c-a9d6-317b840b9271",
   "metadata": {},
   "outputs": [],
   "source": [
    "combined_df = pd.read_csv(\"./data/1993-1998-combined.csv\", low_memory=False, encoding='ISO-8859-1')"
   ]
  },
  {
   "cell_type": "code",
   "execution_count": 6,
   "id": "321998e4-7201-49b4-9670-ba9e7cf68bf1",
   "metadata": {},
   "outputs": [
    {
     "data": {
      "text/plain": [
       "31726531"
      ]
     },
     "execution_count": 6,
     "metadata": {},
     "output_type": "execute_result"
    }
   ],
   "source": [
    "# The number of records collected during the collection period.\n",
    "len(combined_df)"
   ]
  },
  {
   "cell_type": "code",
   "execution_count": 7,
   "id": "7262772e-f15e-43b4-a20a-ed510bdd3279",
   "metadata": {},
   "outputs": [
    {
     "data": {
      "text/plain": [
       "Year\n",
       "1997    5411843\n",
       "1998    5384721\n",
       "1996    5351983\n",
       "1995    5327435\n",
       "1994    5180048\n",
       "1993    5070501\n",
       "Name: count, dtype: int64"
      ]
     },
     "execution_count": 7,
     "metadata": {},
     "output_type": "execute_result"
    }
   ],
   "source": [
    "# The number of datapoints per year during the collection period.\n",
    "combined_df['Year'].value_counts()"
   ]
  },
  {
   "cell_type": "code",
   "execution_count": 8,
   "id": "875fee65-45ee-46dc-a016-487c0551ca1d",
   "metadata": {},
   "outputs": [
    {
     "name": "stdout",
     "output_type": "stream",
     "text": [
      "<class 'pandas.core.frame.DataFrame'>\n",
      "RangeIndex: 31726531 entries, 0 to 31726530\n",
      "Data columns (total 29 columns):\n",
      " #   Column             Dtype  \n",
      "---  ------             -----  \n",
      " 0   Year               int64  \n",
      " 1   Month              int64  \n",
      " 2   DayofMonth         int64  \n",
      " 3   DayOfWeek          int64  \n",
      " 4   DepTime            float64\n",
      " 5   CRSDepTime         int64  \n",
      " 6   ArrTime            float64\n",
      " 7   CRSArrTime         int64  \n",
      " 8   UniqueCarrier      object \n",
      " 9   FlightNum          int64  \n",
      " 10  TailNum            object \n",
      " 11  ActualElapsedTime  float64\n",
      " 12  CRSElapsedTime     float64\n",
      " 13  AirTime            float64\n",
      " 14  ArrDelay           float64\n",
      " 15  DepDelay           float64\n",
      " 16  Origin             object \n",
      " 17  Dest               object \n",
      " 18  Distance           float64\n",
      " 19  TaxiIn             float64\n",
      " 20  TaxiOut            float64\n",
      " 21  Cancelled          int64  \n",
      " 22  CancellationCode   float64\n",
      " 23  Diverted           int64  \n",
      " 24  CarrierDelay       float64\n",
      " 25  WeatherDelay       float64\n",
      " 26  NASDelay           float64\n",
      " 27  SecurityDelay      float64\n",
      " 28  LateAircraftDelay  float64\n",
      "dtypes: float64(16), int64(9), object(4)\n",
      "memory usage: 6.9+ GB\n"
     ]
    }
   ],
   "source": [
    "# Data types information\n",
    "combined_df.info()"
   ]
  },
  {
   "cell_type": "code",
   "execution_count": 9,
   "id": "8b934ac2-b1d2-4df2-b0bb-95a50a121ffa",
   "metadata": {},
   "outputs": [
    {
     "data": {
      "text/plain": [
       "Year                   0.000000\n",
       "Month                  0.000000\n",
       "DayofMonth             0.000000\n",
       "DayOfWeek              0.000000\n",
       "DepTime                1.857430\n",
       "CRSDepTime             0.000000\n",
       "ArrTime                2.085296\n",
       "CRSArrTime             0.000000\n",
       "UniqueCarrier          0.000000\n",
       "FlightNum              0.000000\n",
       "TailNum               32.309076\n",
       "ActualElapsedTime      2.085296\n",
       "CRSElapsedTime         0.047689\n",
       "AirTime               33.760606\n",
       "ArrDelay               2.085296\n",
       "DepDelay               1.857430\n",
       "Origin                 0.000000\n",
       "Dest                   0.000000\n",
       "Distance               0.112871\n",
       "TaxiIn                32.309076\n",
       "TaxiOut               32.309076\n",
       "Cancelled              0.000000\n",
       "CancellationCode     100.000000\n",
       "Diverted               0.000000\n",
       "CarrierDelay         100.000000\n",
       "WeatherDelay         100.000000\n",
       "NASDelay             100.000000\n",
       "SecurityDelay        100.000000\n",
       "LateAircraftDelay    100.000000\n",
       "dtype: float64"
      ]
     },
     "execution_count": 9,
     "metadata": {},
     "output_type": "execute_result"
    }
   ],
   "source": [
    "# Missing data as a percentage for the collection period.\n",
    "(combined_df.isnull().sum() / len(combined_df)) * 100"
   ]
  },
  {
   "cell_type": "code",
   "execution_count": 10,
   "id": "a10c973a-c866-4a0d-a26e-4236aab52956",
   "metadata": {},
   "outputs": [
    {
     "data": {
      "text/plain": [
       "UniqueCarrier\n",
       "DL    5382692\n",
       "US    4613187\n",
       "UA    4240215\n",
       "AA    4170856\n",
       "WN    4114196\n",
       "NW    3087027\n",
       "CO    2555851\n",
       "TW    1605725\n",
       "HP    1161491\n",
       "AS     795291\n",
       "Name: count, dtype: int64"
      ]
     },
     "execution_count": 10,
     "metadata": {},
     "output_type": "execute_result"
    }
   ],
   "source": [
    "# The number of records collected for each carrier. Carriers not present here did not have datapoints collected during the collection period.\n",
    "combined_df['UniqueCarrier'].value_counts()"
   ]
  },
  {
   "cell_type": "code",
   "execution_count": 11,
   "id": "73c55704-2fa6-4a8b-b4c1-f2ae7aea4b96",
   "metadata": {},
   "outputs": [
    {
     "data": {
      "text/plain": [
       "Month\n",
       "1     2669897\n",
       "2     2437969\n",
       "3     2700257\n",
       "4     2608065\n",
       "5     2670535\n",
       "6     2630987\n",
       "7     2717437\n",
       "8     2745066\n",
       "9     2603676\n",
       "10    2699640\n",
       "11    2567559\n",
       "12    2675443\n",
       "Name: count, dtype: int64"
      ]
     },
     "execution_count": 11,
     "metadata": {},
     "output_type": "execute_result"
    }
   ],
   "source": [
    "# Number of records for each month of the year for the collection period.\n",
    "combined_df['Month'].value_counts().sort_index()"
   ]
  },
  {
   "cell_type": "code",
   "execution_count": null,
   "id": "7e20e939-321a-4e84-bf0b-7a6acb0ad416",
   "metadata": {},
   "outputs": [],
   "source": []
  }
 ],
 "metadata": {
  "kernelspec": {
   "display_name": "FlightDataEnv\n",
   "language": "python",
   "name": "flightdataenv"
  },
  "language_info": {
   "codemirror_mode": {
    "name": "ipython",
    "version": 3
   },
   "file_extension": ".py",
   "mimetype": "text/x-python",
   "name": "python",
   "nbconvert_exporter": "python",
   "pygments_lexer": "ipython3",
   "version": "3.10.12"
  }
 },
 "nbformat": 4,
 "nbformat_minor": 5
}
